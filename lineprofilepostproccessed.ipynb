{
 "cells": [
  {
   "cell_type": "code",
   "execution_count": 2,
   "metadata": {},
   "outputs": [],
   "source": [
    "import numpy as np\n",
    "import matplotlib.pyplot as plt\n",
    "import pandas as pd\n",
    "import torch\n",
    "import torch.nn as nn\n",
    "import cv2"
   ]
  },
  {
   "cell_type": "code",
   "execution_count": 3,
   "metadata": {},
   "outputs": [],
   "source": [
    "device=torch.device('cuda' if torch.cuda.is_available() else 'cpu')\n",
    "device='cpu'"
   ]
  },
  {
   "cell_type": "code",
   "execution_count": 4,
   "metadata": {},
   "outputs": [],
   "source": [
    "class CustomModel2(nn.Module):\n",
    "    def __init__(self, input_dim, cls):\n",
    "        super(CustomModel2, self).__init__()\n",
    "        self.feature = nn.Sequential(\n",
    "            # nn.GaussianNoise(0.01),\n",
    "            nn.Conv1d(\n",
    "                in_channels=1, out_channels=32, kernel_size=8, stride=1, padding=2\n",
    "            ),\n",
    "            nn.ReLU(),\n",
    "            nn.BatchNorm1d(32),\n",
    "            nn.Conv1d(\n",
    "                in_channels=32, out_channels=32, kernel_size=8, stride=2, padding=2\n",
    "            ),\n",
    "            nn.ReLU(),\n",
    "            nn.BatchNorm1d(32),\n",
    "            nn.MaxPool1d(kernel_size=4, stride=2),\n",
    "            nn.Flatten(),\n",
    "        )\n",
    "\n",
    "        self.feature_x_x_x = nn.Sequential(\n",
    "            nn.Conv1d(\n",
    "                in_channels=1, out_channels=16, kernel_size=18, stride=2, padding=8\n",
    "            ),\n",
    "            nn.ReLU(),\n",
    "            nn.BatchNorm1d(16),\n",
    "            nn.Conv1d(\n",
    "                in_channels=16, out_channels=16, kernel_size=18, stride=4, padding=8\n",
    "            ),\n",
    "            nn.ReLU(),\n",
    "            nn.BatchNorm1d(16),\n",
    "            nn.MaxPool1d(kernel_size=4, stride=2),\n",
    "            nn.Flatten(),\n",
    "        )\n",
    "        self.feature_f = nn.Sequential(nn.Flatten())\n",
    "        self.combined_features = nn.Sequential()\n",
    "\n",
    "        self.fc = nn.Sequential(\n",
    "            nn.Linear(\n",
    "                52048, 1024\n",
    "            ),  \n",
    "            nn.BatchNorm1d(1024),\n",
    "            nn.PReLU(),\n",
    "            nn.Dropout(0.2),\n",
    "            nn.Linear(1024, 128),\n",
    "            nn.BatchNorm1d(128),\n",
    "            nn.PReLU(),\n",
    "            nn.Dropout(0.2),\n",
    "            nn.Linear(128, cls)\n",
    "        )\n",
    "\n",
    "    def forward(self, x):\n",
    "        x1 = self.feature(x)\n",
    "        x4 = self.feature_x_x_x(x)\n",
    "        x6 = self.feature_f(x)\n",
    "        combined_features = torch.cat((x1, x4, x6), dim=1)\n",
    "        fc_x = self.fc(combined_features)\n",
    "        return fc_x"
   ]
  },
  {
   "cell_type": "code",
   "execution_count": 5,
   "metadata": {},
   "outputs": [],
   "source": [
    "input_size = 1\n",
    "output_size = 7\n",
    "model_ft = CustomModel2(input_size, output_size)\n"
   ]
  },
  {
   "cell_type": "code",
   "execution_count": 6,
   "metadata": {},
   "outputs": [
    {
     "data": {
      "text/plain": [
       "<All keys matched successfully>"
      ]
     },
     "execution_count": 6,
     "metadata": {},
     "output_type": "execute_result"
    }
   ],
   "source": [
    "checkpoint = torch.load(\n",
    "   \"/home/woody/iwi5/iwi5095h/line_profile/Results/results/mean-std/fcn/fcn_model.pt\",\n",
    "    map_location=torch.device(\"cpu\"),\n",
    ")\n",
    "\n",
    "model_ft.load_state_dict(checkpoint[\"model_state_dict\"])\n",
    "\n"
   ]
  },
  {
   "cell_type": "code",
   "execution_count": 7,
   "metadata": {},
   "outputs": [
    {
     "name": "stdout",
     "output_type": "stream",
     "text": [
      "CustomModel2(\n",
      "  (feature): Sequential(\n",
      "    (0): Conv1d(1, 32, kernel_size=(8,), stride=(1,), padding=(2,))\n",
      "    (1): ReLU()\n",
      "    (2): BatchNorm1d(32, eps=1e-05, momentum=0.1, affine=True, track_running_stats=True)\n",
      "    (3): Conv1d(32, 32, kernel_size=(8,), stride=(2,), padding=(2,))\n",
      "    (4): ReLU()\n",
      "    (5): BatchNorm1d(32, eps=1e-05, momentum=0.1, affine=True, track_running_stats=True)\n",
      "    (6): MaxPool1d(kernel_size=4, stride=2, padding=0, dilation=1, ceil_mode=False)\n",
      "    (7): Flatten(start_dim=1, end_dim=-1)\n",
      "  )\n",
      "  (feature_x_x_x): Sequential(\n",
      "    (0): Conv1d(1, 16, kernel_size=(18,), stride=(2,), padding=(8,))\n",
      "    (1): ReLU()\n",
      "    (2): BatchNorm1d(16, eps=1e-05, momentum=0.1, affine=True, track_running_stats=True)\n",
      "    (3): Conv1d(16, 16, kernel_size=(18,), stride=(4,), padding=(8,))\n",
      "    (4): ReLU()\n",
      "    (5): BatchNorm1d(16, eps=1e-05, momentum=0.1, affine=True, track_running_stats=True)\n",
      "    (6): MaxPool1d(kernel_size=4, stride=2, padding=0, dilation=1, ceil_mode=False)\n",
      "    (7): Flatten(start_dim=1, end_dim=-1)\n",
      "  )\n",
      "  (feature_f): Sequential(\n",
      "    (0): Flatten(start_dim=1, end_dim=-1)\n",
      "  )\n",
      "  (combined_features): Sequential()\n",
      "  (fc): Sequential(\n",
      "    (0): Linear(in_features=52048, out_features=1024, bias=True)\n",
      "    (1): BatchNorm1d(1024, eps=1e-05, momentum=0.1, affine=True, track_running_stats=True)\n",
      "    (2): PReLU(num_parameters=1)\n",
      "    (3): Dropout(p=0.2, inplace=False)\n",
      "    (4): Linear(in_features=1024, out_features=128, bias=True)\n",
      "    (5): BatchNorm1d(128, eps=1e-05, momentum=0.1, affine=True, track_running_stats=True)\n",
      "    (6): PReLU(num_parameters=1)\n",
      "    (7): Dropout(p=0.2, inplace=False)\n",
      "    (8): Linear(in_features=128, out_features=7, bias=True)\n",
      "  )\n",
      ")\n"
     ]
    }
   ],
   "source": [
    "print(model_ft)"
   ]
  },
  {
   "cell_type": "code",
   "execution_count": 14,
   "metadata": {},
   "outputs": [
    {
     "name": "stdout",
     "output_type": "stream",
     "text": [
      "(1951, 1532)\n",
      "(1532,)\n",
      "(1951,)\n",
      "(2866,)\n",
      "(2350,)\n",
      "(5216,)\n"
     ]
    }
   ],
   "source": [
    "image=cv2.imread('/home/woody/iwi5/iwi5095h/experiments/postprocessed/0005-Defect_Line_Sys24571_1.tif',-1)\n",
    "n = np.array(image)  \n",
    "print(n.shape)\n",
    "n_std=(n-n.mean())/n.std()\n",
    "cols = n_std.mean(axis=0)\n",
    "print(cols.shape)\n",
    "rows = n_std.mean(axis=1)\n",
    "print(rows.shape)\n",
    "cols_buffer=2866-cols.shape[0]\n",
    "cols_all=np.repeat(cols[-1],cols_buffer)\n",
    "rows_buffer=2350-rows.shape[0]\n",
    "rows_all=np.repeat(rows[-1],rows_buffer)\n",
    "cols_resulting=np.concatenate((cols,cols_all),axis=0)\n",
    "rows_resulting=np.concatenate((rows,rows_all),axis=0)\n",
    "imagelp=np.concatenate((cols,rows),axis=0)\n",
    "print(cols_resulting.shape)\n",
    "print(rows_resulting.shape)\n",
    "\n",
    "# # 5216 \n",
    "\n",
    "# # repeat last value of imagelp array  of shape ( 5096,)to make it *(5216,)\n",
    "# repeat_count = 5216 - imagelp.shape[0]\n",
    "\n",
    "# # Get the last value of the original array\n",
    "# last_value = imagelp[-1]\n",
    "\n",
    "# Create the repeated array\n",
    "# repeated_array = np.repeat(last_value, repeat_count)\n",
    "resulting_array = np.concatenate((cols_resulting,rows_resulting),axis=0)\n",
    "\n",
    "print(resulting_array.shape)\n",
    "X_data = torch.tensor(\n",
    "            (resulting_array).tolist(), dtype=torch.float32, device=device\n",
    "        ).unsqueeze(0).unsqueeze(0)\n"
   ]
  },
  {
   "cell_type": "code",
   "execution_count": 15,
   "metadata": {},
   "outputs": [
    {
     "data": {
      "text/plain": [
       "[<matplotlib.lines.Line2D at 0x7ffa8aff4a30>]"
      ]
     },
     "execution_count": 15,
     "metadata": {},
     "output_type": "execute_result"
    },
    {
     "data": {
      "image/png": "[encoded data removed]",
      "text/plain": [
       "<Figure size 600x200 with 1 Axes>"
      ]
     },
     "metadata": {},
     "output_type": "display_data"
    }
   ],
   "source": [
    "# plot imagelp and resulting_array one below the other\n",
    "ax, fig = plt.subplots(figsize=(6, 2))\n",
    "plt.plot(imagelp)\n",
    "\n",
    "\n"
   ]
  },
  {
   "cell_type": "code",
   "execution_count": 16,
   "metadata": {},
   "outputs": [
    {
     "data": {
      "text/plain": [
       "[<matplotlib.lines.Line2D at 0x7ffa8af63d90>]"
      ]
     },
     "execution_count": 16,
     "metadata": {},
     "output_type": "execute_result"
    },
    {
     "data": {
      "image/png": "[encoded data removed]",
      "text/plain": [
       "<Figure size 600x200 with 1 Axes>"
      ]
     },
     "metadata": {},
     "output_type": "display_data"
    }
   ],
   "source": [
    "ax, fig = plt.subplots(figsize=(6, 2))\n",
    "plt.plot(resulting_array)\n"
   ]
  },
  {
   "cell_type": "code",
   "execution_count": 17,
   "metadata": {},
   "outputs": [
    {
     "data": {
      "text/plain": [
       "torch.Size([1, 1, 5216])"
      ]
     },
     "execution_count": 17,
     "metadata": {},
     "output_type": "execute_result"
    }
   ],
   "source": [
    "X_data.shape"
   ]
  },
  {
   "cell_type": "code",
   "execution_count": 18,
   "metadata": {},
   "outputs": [],
   "source": [
    "def label_to_class(label):\n",
    "    # create a dictionary of labels to class\n",
    "    label_to_class = {\n",
    "        0: \"FX00_Sporadic_line_artefacts\",\n",
    "        1: \"FX02_Group_of_line_artefact\",\n",
    "        2: \"FX03_partly_brighter\",\n",
    "        3: \"FX04_group_of_defect_line\",\n",
    "        4: \"FX05_Defect_line\",\n",
    "        5: \"FX07_Stripes\",\n",
    "        6: \"Good_image\",\n",
    "    }\n",
    "    return label_to_class[label]"
   ]
  },
  {
   "cell_type": "code",
   "execution_count": 19,
   "metadata": {},
   "outputs": [
    {
     "name": "stderr",
     "output_type": "stream",
     "text": [
      "[W NNPACK.cpp:64] Could not initialize NNPACK! Reason: Unsupported hardware.\n"
     ]
    },
    {
     "name": "stdout",
     "output_type": "stream",
     "text": [
      "tensor([[2.3714e-04, 7.8438e-05, 6.7517e-06, 1.1500e-04, 1.4944e-03, 9.7812e-01,\n",
      "         1.9948e-02]])\n",
      "tensor(5)\n",
      "5\n",
      "FX07_Stripes\n"
     ]
    }
   ],
   "source": [
    "model_ft.eval()\n",
    "with torch.no_grad():\n",
    "    out = model_ft(X_data)\n",
    "    #apply softmax\n",
    "    out = nn.functional.softmax(out, dim=1)\n",
    "    # get conf and label\n",
    "    \n",
    "    conf, label = torch.max(out, dim=1)\n",
    "    print(out)\n",
    "    print(torch.argmax(out))\n",
    "    print(torch.argmax(out).item())\n",
    "    print(label_to_class(torch.argmax(out).item()))\n",
    "   "
   ]
  },
  {
   "cell_type": "code",
   "execution_count": 20,
   "metadata": {},
   "outputs": [
    {
     "data": {
      "text/plain": [
       "[0.0, 0.0, 0.0, 0.0, 0.0, 0.98, 0.02]"
      ]
     },
     "execution_count": 20,
     "metadata": {},
     "output_type": "execute_result"
    }
   ],
   "source": [
    "probabilities = [round(v.item(),2) for v in (out[0])]\n",
    "probabilities"
   ]
  },
  {
   "cell_type": "code",
   "execution_count": 24,
   "metadata": {},
   "outputs": [
    {
     "data": {
      "text/plain": [
       "Text(0.5, -0.37, 'Label: FX07_Stripes')"
      ]
     },
     "execution_count": 24,
     "metadata": {},
     "output_type": "execute_result"
    },
    {
     "data": {
      "image/png": "[encoded data removed]",
      "text/plain": [
       "<Figure size 800x200 with 1 Axes>"
      ]
     },
     "metadata": {},
     "output_type": "display_data"
    }
   ],
   "source": [
    "fig, ax = plt.subplots(figsize=(8,2),gridspec_kw={\"top\": 0.88})\n",
    "# plt.imshow(image, cmap=\"gray\")\n",
    "# ax, fig = plt.subplots(figsize=(9, 2))\n",
    "plt.plot(resulting_array, color=\"orange\")\n",
    "fig.suptitle(\n",
    "    \" Target: 'FX05_defect_line' \"\n",
    ")\n",
    "ax.text(0.5, -0.26, f'Confidence: {probabilities}', ha='center',va='bottom', transform=ax.transAxes)\n",
    "ax.text(0.5, -0.37, f'Label: {label_to_class(torch.argmax(out).item())}', ha='center',va='bottom', transform=ax.transAxes)\n"
   ]
  },
  {
   "cell_type": "code",
   "execution_count": 16,
   "metadata": {},
   "outputs": [
    {
     "name": "stdout",
     "output_type": "stream",
     "text": [
      "(2866, 2350)\n",
      "(2350,)\n",
      "(2866,)\n"
     ]
    }
   ],
   "source": [
    "image= cv2.imread('/home/hpc/iwi5/iwi5095h/masterthesis/thesis/experiments/Line_profile/FX09_1_.tif', -1)\n",
    "n = np.array(image)  \n",
    "print(n.shape)\n",
    "n_std=(n-n.mean())/n.std()\n",
    "cols = n_std.mean(axis=0)\n",
    "print(cols.shape)\n",
    "rows = n_std.mean(axis=1)\n",
    "print(rows.shape)\n",
    "imagelp=np.concatenate((cols,rows),axis=0)\n",
    "\n",
    "# 5216 \n",
    "\n",
    "# repeat last value of imagelp array  of shape ( 5096,)to make it *(5216,)\n",
    "repeat_count = 5216 - imagelp.shape[0]\n",
    "\n",
    "# Get the last value of the original array\n",
    "last_value = imagelp[-1]\n",
    "\n",
    "# Create the repeated array\n",
    "repeated_array = np.repeat(last_value, repeat_count)\n",
    "resulting_array1 = np.concatenate((imagelp, repeated_array))"
   ]
  },
  {
   "cell_type": "code",
   "execution_count": 22,
   "metadata": {},
   "outputs": [
    {
     "name": "stdout",
     "output_type": "stream",
     "text": [
      "(2866, 2350)\n",
      "(2350,)\n",
      "(2866,)\n"
     ]
    }
   ],
   "source": [
    "image= cv2.imread('/home/hpc/iwi5/iwi5095h/masterthesis/thesis/experiments/Line_profile/FX09_3_.tif', -1)\n",
    "n = np.array(image)  \n",
    "print(n.shape)\n",
    "n_std=(n-n.mean())/n.std()\n",
    "cols = n_std.mean(axis=0)\n",
    "print(cols.shape)\n",
    "rows = n_std.mean(axis=1)\n",
    "print(rows.shape)\n",
    "imagelp=np.concatenate((cols,rows),axis=0)\n",
    "\n",
    "# 5216 \n",
    "\n",
    "# repeat last value of imagelp array  of shape ( 5096,)to make it *(5216,)\n",
    "repeat_count = 5216 - imagelp.shape[0]\n",
    "\n",
    "# Get the last value of the original array\n",
    "last_value = imagelp[-1]\n",
    "\n",
    "# Create the repeated array\n",
    "repeated_array = np.repeat(last_value, repeat_count)\n",
    "resulting_array2 = np.concatenate((imagelp, repeated_array))"
   ]
  },
  {
   "cell_type": "code",
   "execution_count": 23,
   "metadata": {},
   "outputs": [],
   "source": [
    "import cv2\n",
    "import scipy.stats as stats\n",
    "\n",
    "# Load and preprocess the images\n",
    "image_postprocessed = cv2.imread('/home/hpc/iwi5/iwi5095h/masterthesis/thesis/experiments/Line_profile/FX09_3_.tif', -1)\n",
    "image_raw=cv2.imread('/home/hpc/iwi5/iwi5095h/masterthesis/thesis/experiments/Line_profile/FX09_1_.tif', -1)\n",
    "# Calculate histograms\n",
    "hist_raw = cv2.calcHist([image_raw], [0], None, [256], [0, 256])\n",
    "hist_postprocessed = cv2.calcHist([image_postprocessed], [0], None, [256], [0, 256])\n"
   ]
  },
  {
   "cell_type": "code",
   "execution_count": 88,
   "metadata": {},
   "outputs": [
    {
     "name": "stdout",
     "output_type": "stream",
     "text": [
      "8.673257136004402e-299\n",
      "Distributions are significantly different.\n"
     ]
    }
   ],
   "source": [
    "\n",
    "# Perform the Kolmogorov-Smirnov test\n",
    "_, p_value = stats.ks_2samp(resulting_array1, resulting_array2)\n",
    "\n",
    "print(p_value)\n",
    "\n",
    "if p_value < 0.05:\n",
    "    print(\"Distributions are significantly different.\")\n",
    "else:\n",
    "    print(\"Distributions are similar.\")\n"
   ]
  },
  {
   "cell_type": "code",
   "execution_count": null,
   "metadata": {},
   "outputs": [],
   "source": []
  }
 ],
 "metadata": {
  "kernelspec": {
   "display_name": "SHThesis",
   "language": "python",
   "name": "python3"
  },
  "language_info": {
   "codemirror_mode": {
    "name": "ipython",
    "version": 3
   },
   "file_extension": ".py",
   "mimetype": "text/x-python",
   "name": "python",
   "nbconvert_exporter": "python",
   "pygments_lexer": "ipython3",
   "version": "3.9.17"
  },
  "orig_nbformat": 4
 },
 "nbformat": 4,
 "nbformat_minor": 2
}
